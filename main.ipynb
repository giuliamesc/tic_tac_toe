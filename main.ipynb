{
 "cells": [
  {
   "cell_type": "code",
   "execution_count": 88,
   "id": "427b9dbb",
   "metadata": {},
   "outputs": [],
   "source": [
    "import numpy as np\n",
    "import random\n",
    "from tic_env import TictactoeEnv, OptimalPlayer"
   ]
  },
  {
   "cell_type": "code",
   "execution_count": 89,
   "id": "c0c8a027",
   "metadata": {},
   "outputs": [
    {
     "data": {
      "text/plain": [
       "{'grid': array([[0., 0., 0.],\n",
       "        [0., 0., 0.],\n",
       "        [0., 0., 0.]]),\n",
       " 'end': False,\n",
       " 'winner': None,\n",
       " 'player2value': {'X': 1, 'O': -1},\n",
       " 'num_step': 0,\n",
       " 'current_player': 'X'}"
      ]
     },
     "execution_count": 89,
     "metadata": {},
     "output_type": "execute_result"
    }
   ],
   "source": [
    "env = TictactoeEnv()\n",
    "env.__dict__"
   ]
  },
  {
   "cell_type": "code",
   "execution_count": 90,
   "id": "81398ff7",
   "metadata": {},
   "outputs": [],
   "source": [
    "class QPlayer:\n",
    "    \n",
    "    def __init__(self, epsilon, alpha = 0.05, gamma = 0.99, player_name = 'O'):\n",
    "        self.epsilon = epsilon\n",
    "        self.alpha = alpha\n",
    "        self.gamma = gamma\n",
    "        self.player_name = player_name\n",
    "        self.states = []\n",
    "        self.actions = []\n",
    "        self.states_opponent = []\n",
    "        self.actions_opponent = []\n",
    "        self.states_value = dict()\n",
    "        \n",
    "    def set_player(self, player_name = 'X', j=-1):\n",
    "        self.player_name = player_name\n",
    "        if j != -1:\n",
    "            self.player_name = 'X' if j % 2 == 0 else 'O'\n",
    "            \n",
    "    def empty(self, grid):\n",
    "        '''return all empty positions'''\n",
    "        avail = []\n",
    "        for i in range(9):\n",
    "            pos = (int(i/3), i % 3)\n",
    "            if grid[pos] == 0:\n",
    "                avail.append(i)\n",
    "        return avail\n",
    "    \n",
    "    def get_state_key(self, grid):\n",
    "        \"Transforms the grid configuration into a string -- needed for the key of the dictionary\" \n",
    "        key = str(grid.reshape(3 * 3))\n",
    "        return key\n",
    "    \n",
    "    def select_optimal_action(self, grid):\n",
    "        avail_actions = self.empty(grid)\n",
    "        key = self.get_state_key(grid)\n",
    "        if key in self.states_value : \n",
    "            restricted_vector = self.states_value[key][avail_actions]\n",
    "            move = np.argmax(restricted_vector)\n",
    "        else :\n",
    "            move = self.select_random_action(grid)\n",
    "        return move\n",
    "    \n",
    "    def select_random_action(self,grid):\n",
    "        actions = self.empty(grid)\n",
    "        move = random.choice(actions)\n",
    "        return move\n",
    "    \n",
    "    def act(self,grid):\n",
    "        b = np.random.binomial(1,1-self.epsilon)\n",
    "        if b == 1 : return self.select_optimal_action(grid)\n",
    "        else : return self.select_random_action(grid)\n",
    "        \n",
    "class QLearning:\n",
    "    def __init__(self, epsilon1, epsilon2, alpha = 0.05, gamma = 0.99):\n",
    "        self.q_player = QPlayer(epsilon1, alpha, gamma)\n",
    "        self.opponent = OptimalPlayer(epsilon2)\n",
    "        self.env = TictactoeEnv()\n",
    "        \n",
    "    def game(self):\n",
    "        env.reset()\n",
    "        while not env.end : \n",
    "            if self.env.current_player == 'O' : \n",
    "                move = self.q_player.act()\n",
    "                self.env.step(move)\n",
    "                self.q_player.states.append(self.env.grid)\n",
    "                self.q_player.actions.append(move)\n",
    "\n",
    "            else : \n",
    "                move = self.opponent.act()\n",
    "                self.env.step(move)\n",
    "                self.q_player.states_opponent.append(self.env.grid)\n",
    "                self.q_player.actions_opponent.append(move)\n",
    "        FINIRE DI SCRIVERE\n",
    "        \n",
    "    def give_reward(self):\n",
    "        \n",
    "    def update_q(self, player, states, actions):\n",
    "        r = self.env.reward(player)\n",
    "        i = len(actions)-1\n",
    "        key = self.q_player.get_state_key(self.env.grid)\n",
    "        self.q_player.states_value[key] = np.zeros([9,1])\n",
    "\n",
    "        for st in reversed(states)[1:]:\n",
    "            key_prec = self.q_player.get_state_key(st-1)\n",
    "            key = self.q_player.get_state_key(st)\n",
    "            if self.q_player.states_value[key] is None:\n",
    "                self.q_player.states_value[key] = np.zeros([9,1])\n",
    "                \n",
    "            self.q_player.states_value[key][actions[i]] += self.q_player.alpha*(r + self.q_player.gamma*max(self.q_player.states_value[key_prec])-self.q_player.states_value[key][actions[i]])  \n",
    "            r = 0\n",
    "            i -= 1\n",
    "            \n",
    "            \n",
    "        \n",
    "        "
   ]
  },
  {
   "cell_type": "code",
   "execution_count": 91,
   "id": "6b542eae",
   "metadata": {},
   "outputs": [],
   "source": [
    "np.random.seed(2022)\n",
    "epsilon = np.random.uniform(0,0.5)\n",
    "anna = QPlayer(epsilon) \n",
    "player_opt_1 = OptimalPlayer(epsilon = 0., player = 'X')"
   ]
  },
  {
   "cell_type": "code",
   "execution_count": 92,
   "id": "853441dd",
   "metadata": {},
   "outputs": [
    {
     "data": {
      "text/plain": [
       "(array([[0., 0., 0.],\n",
       "        [0., 0., 0.],\n",
       "        [0., 0., 0.]]),\n",
       " False,\n",
       " None)"
      ]
     },
     "execution_count": 92,
     "metadata": {},
     "output_type": "execute_result"
    }
   ],
   "source": [
    "grid = env.grid\n",
    "env.observe()"
   ]
  },
  {
   "cell_type": "code",
   "execution_count": 93,
   "id": "bef14d46",
   "metadata": {},
   "outputs": [
    {
     "data": {
      "text/plain": [
       "(array([[1., 0., 0.],\n",
       "        [0., 0., 0.],\n",
       "        [0., 0., 0.]]),\n",
       " False,\n",
       " None)"
      ]
     },
     "execution_count": 93,
     "metadata": {},
     "output_type": "execute_result"
    }
   ],
   "source": [
    "env.step(anna.select_move(grid))"
   ]
  },
  {
   "cell_type": "code",
   "execution_count": 94,
   "id": "28e9a290",
   "metadata": {},
   "outputs": [
    {
     "data": {
      "text/plain": [
       "(array([[ 1.,  0.,  0.],\n",
       "        [ 0., -1.,  0.],\n",
       "        [ 0.,  0.,  0.]]),\n",
       " False,\n",
       " None)"
      ]
     },
     "execution_count": 94,
     "metadata": {},
     "output_type": "execute_result"
    }
   ],
   "source": [
    "env.step(player_opt_1.act(grid))"
   ]
  },
  {
   "cell_type": "code",
   "execution_count": 95,
   "id": "22dc7f16",
   "metadata": {},
   "outputs": [
    {
     "data": {
      "text/plain": [
       "(array([[ 1.,  0.,  0.],\n",
       "        [ 0., -1.,  0.],\n",
       "        [ 0.,  0.,  1.]]),\n",
       " False,\n",
       " None)"
      ]
     },
     "execution_count": 95,
     "metadata": {},
     "output_type": "execute_result"
    }
   ],
   "source": [
    "env.step(anna.select_move(grid))"
   ]
  },
  {
   "cell_type": "code",
   "execution_count": 96,
   "id": "0c6a4073",
   "metadata": {},
   "outputs": [
    {
     "data": {
      "text/plain": [
       "(array([[ 1.,  0., -1.],\n",
       "        [ 0., -1.,  0.],\n",
       "        [ 0.,  0.,  1.]]),\n",
       " False,\n",
       " None)"
      ]
     },
     "execution_count": 96,
     "metadata": {},
     "output_type": "execute_result"
    }
   ],
   "source": [
    "env.step(player_opt_1.act(grid))"
   ]
  },
  {
   "cell_type": "code",
   "execution_count": 97,
   "id": "957bfc17",
   "metadata": {},
   "outputs": [
    {
     "data": {
      "text/plain": [
       "(array([[ 1.,  0., -1.],\n",
       "        [ 0., -1.,  0.],\n",
       "        [ 1.,  0.,  1.]]),\n",
       " False,\n",
       " None)"
      ]
     },
     "execution_count": 97,
     "metadata": {},
     "output_type": "execute_result"
    }
   ],
   "source": [
    "env.step(anna.select_move(grid))"
   ]
  },
  {
   "cell_type": "code",
   "execution_count": 98,
   "id": "ad783b97",
   "metadata": {},
   "outputs": [
    {
     "data": {
      "text/plain": [
       "(array([[ 1.,  0., -1.],\n",
       "        [-1., -1.,  0.],\n",
       "        [ 1.,  0.,  1.]]),\n",
       " False,\n",
       " None)"
      ]
     },
     "execution_count": 98,
     "metadata": {},
     "output_type": "execute_result"
    }
   ],
   "source": [
    "env.step(player_opt_1.act(grid))"
   ]
  },
  {
   "cell_type": "code",
   "execution_count": 99,
   "id": "a58a7a65",
   "metadata": {},
   "outputs": [
    {
     "data": {
      "text/plain": [
       "(array([[ 1.,  0., -1.],\n",
       "        [-1., -1.,  1.],\n",
       "        [ 1.,  0.,  1.]]),\n",
       " False,\n",
       " None)"
      ]
     },
     "execution_count": 99,
     "metadata": {},
     "output_type": "execute_result"
    }
   ],
   "source": [
    "env.step(anna.select_move(grid))"
   ]
  },
  {
   "cell_type": "code",
   "execution_count": 100,
   "id": "4b23d553",
   "metadata": {},
   "outputs": [
    {
     "data": {
      "text/plain": [
       "(array([[ 1.,  0., -1.],\n",
       "        [-1., -1.,  1.],\n",
       "        [ 1., -1.,  1.]]),\n",
       " False,\n",
       " None)"
      ]
     },
     "execution_count": 100,
     "metadata": {},
     "output_type": "execute_result"
    }
   ],
   "source": [
    "env.step(player_opt_1.act(grid))"
   ]
  },
  {
   "cell_type": "code",
   "execution_count": 101,
   "id": "b2bc49af",
   "metadata": {},
   "outputs": [
    {
     "data": {
      "text/plain": [
       "(array([[ 1.,  1., -1.],\n",
       "        [-1., -1.,  1.],\n",
       "        [ 1., -1.,  1.]]),\n",
       " True,\n",
       " None)"
      ]
     },
     "execution_count": 101,
     "metadata": {},
     "output_type": "execute_result"
    }
   ],
   "source": [
    "env.step(anna.select_move(grid))"
   ]
  },
  {
   "cell_type": "code",
   "execution_count": 102,
   "id": "cf09bef3",
   "metadata": {},
   "outputs": [
    {
     "ename": "NameError",
     "evalue": "name 'end' is not defined",
     "output_type": "error",
     "traceback": [
      "\u001b[1;31m---------------------------------------------------------------------------\u001b[0m",
      "\u001b[1;31mNameError\u001b[0m                                 Traceback (most recent call last)",
      "\u001b[1;32m~\\AppData\\Local\\Temp/ipykernel_3472/2685661624.py\u001b[0m in \u001b[0;36m<module>\u001b[1;34m\u001b[0m\n\u001b[1;32m----> 1\u001b[1;33m \u001b[0mend\u001b[0m\u001b[1;33m\u001b[0m\u001b[1;33m\u001b[0m\u001b[0m\n\u001b[0m",
      "\u001b[1;31mNameError\u001b[0m: name 'end' is not defined"
     ]
    }
   ],
   "source": [
    "end"
   ]
  },
  {
   "cell_type": "code",
   "execution_count": 103,
   "id": "4512d129",
   "metadata": {},
   "outputs": [
    {
     "data": {
      "text/plain": [
       "True"
      ]
     },
     "execution_count": 103,
     "metadata": {},
     "output_type": "execute_result"
    }
   ],
   "source": [
    "env.end"
   ]
  },
  {
   "cell_type": "code",
   "execution_count": null,
   "id": "74d86ae4",
   "metadata": {},
   "outputs": [],
   "source": []
  }
 ],
 "metadata": {
  "kernelspec": {
   "display_name": "Python 3 (ipykernel)",
   "language": "python",
   "name": "python3"
  },
  "language_info": {
   "codemirror_mode": {
    "name": "ipython",
    "version": 3
   },
   "file_extension": ".py",
   "mimetype": "text/x-python",
   "name": "python",
   "nbconvert_exporter": "python",
   "pygments_lexer": "ipython3",
   "version": "3.8.5"
  }
 },
 "nbformat": 4,
 "nbformat_minor": 5
}
